{
 "cells": [
  {
   "cell_type": "markdown",
   "id": "6648b730",
   "metadata": {},
   "source": [
    "# Project Title :  ETQAN CUBE.\n",
    "\n",
    "\n",
    "\n",
    "## Problem Description\n",
    "\n",
    "The owner of the house or villa intends to offer it for sale. But he does not know how much he offers, and he is afraid to offer it at a low price once, and a large percentage goes to him, or he offers it at a high price once, and no one buys it. One of the solutions available is to go to the real estate sites and ask for a price, but this valuation service is expensive and asks for a percentage, we can reach 10% of the selling price.\n",
    "\n",
    "\n",
    "## Solution:\n",
    "A startup company in the field of data science called Itqan Cube consisting of Ahmed, Afrah, Abdullah and Omar\n",
    "\n",
    "Embracing the problem and thinking about creating a website or program that makes a prediction of the average price of a house or villa using linear regression\n",
    "\n",
    "## Project Components\n",
    "\n",
    "- [Proposal]\n",
    "- [Project]\n",
    "\n",
    "click here :https://github.com/Afrah997/ltqan-Cube.git\n",
    "\n",
    "## Data\n",
    "\n",
    "The lack of ready-made data or the ability to access it is difficult. The ministry of justice has done scraping for the following sites\n",
    "and i h\n",
    "I have done scriping on multiple sites to get more data which are:\n",
    "- [Property Finder](https://www.propertyfinder.sa/)\n",
    "- [Bayut](https://www.bayut.sa/)\n",
    "- [9 10ths](https://map.910ths.sa/riyadh-region/demographic)\n",
    "- [General Authority for Statistics](https://www.stats.gov.sa/ar/37)\n",
    "\n",
    "all of these sites were getting data for multiple\n",
    "\n",
    "you can find the [Dataset here]()\n",
    "\n",
    "\n",
    "\n",
    "## Algorithms\n",
    "\n",
    "\n",
    "\n",
    "\n",
    "\n",
    "## Tools\n",
    "\n",
    "- selenium and beautifulsoup4 for scraping webpages\n",
    "- Pandas, SQL to clean , minuplate and store data.\n",
    "- Numpy and Pandas for data manipulation\n",
    "- Scikit-learn for modeling\n",
    "- Matplotlib for plotting\n",
    "\n",
    "\n",
    "## Communication\n",
    "\n",
    "The slides and visuals presented uploaded [here]()\n",
    "\n",
    "\n",
    "\n"
   ]
  },
  {
   "cell_type": "code",
   "execution_count": null,
   "id": "9fa8fc2a",
   "metadata": {},
   "outputs": [],
   "source": []
  }
 ],
 "metadata": {
  "kernelspec": {
   "display_name": "Python 3",
   "language": "python",
   "name": "python3"
  },
  "language_info": {
   "codemirror_mode": {
    "name": "ipython",
    "version": 3
   },
   "file_extension": ".py",
   "mimetype": "text/x-python",
   "name": "python",
   "nbconvert_exporter": "python",
   "pygments_lexer": "ipython3",
   "version": "3.8.8"
  }
 },
 "nbformat": 4,
 "nbformat_minor": 5
}
